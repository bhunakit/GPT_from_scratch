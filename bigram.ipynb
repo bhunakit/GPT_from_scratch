{
 "cells": [
  {
   "cell_type": "code",
   "execution_count": 2,
   "metadata": {},
   "outputs": [],
   "source": [
    "import os\n",
    "import requests\n",
    "import tiktoken\n",
    "import torch\n",
    "import torch.nn as nn\n",
    "from torch.nn import functional as F\n",
    "import numpy as np\n",
    "\n",
    "# download the tiny shakespeare dataset\n",
    "input_file_path = os.path.join(os.path.dirname('__file__'), 'data/input.txt')\n",
    "if not os.path.exists(input_file_path):\n",
    "    data_url = 'https://raw.githubusercontent.com/karpathy/char-rnn/master/data/tinyshakespeare/input.txt'\n",
    "    with open(input_file_path, 'w') as f:\n",
    "        f.write(requests.get(data_url).text)"
   ]
  },
  {
   "cell_type": "code",
   "execution_count": 3,
   "metadata": {},
   "outputs": [],
   "source": [
    "with open(input_file_path, 'r') as f:\n",
    "    text = f.read()"
   ]
  },
  {
   "cell_type": "code",
   "execution_count": 4,
   "metadata": {},
   "outputs": [],
   "source": [
    "chars = sorted(list(set(text)))\n",
    "\n",
    "vocab_size = len(chars)"
   ]
  },
  {
   "cell_type": "code",
   "execution_count": 5,
   "metadata": {},
   "outputs": [],
   "source": [
    "str_to_int = { ch:i for i, ch in enumerate(chars) }\n",
    "int_to_str = { i:ch for i, ch in enumerate(chars) }\n",
    "\n",
    "encode = lambda s: [str_to_int[ch] for ch in s]\n",
    "decode = lambda l: ''.join([int_to_str[i] for i in l])"
   ]
  },
  {
   "cell_type": "code",
   "execution_count": 6,
   "metadata": {},
   "outputs": [],
   "source": [
    "data = torch.tensor(encode(text), dtype=torch.long)\n",
    "\n",
    "n = int(0.9*len(data))\n",
    "\n",
    "train_data = data[:n]\n",
    "val_data = data[n:]"
   ]
  },
  {
   "cell_type": "code",
   "execution_count": 7,
   "metadata": {},
   "outputs": [],
   "source": [
    "torch.manual_seed(64)\n",
    "batch_size = 4\n",
    "block_size = 8\n",
    "\n",
    "\n",
    "def generate_batch(split, batch_size=4):\n",
    "    data = train_data if split == \"train\" else val_data\n",
    "    ix = torch.randint(len(data) - block_size, (batch_size,))\n",
    "    x = torch.stack([data[i: i+block_size] for i in ix])\n",
    "    y = torch.stack([data[i+1: i+block_size+1] for i in ix])\n",
    "    return x, y\n",
    "\n",
    "xb, yb = generate_batch('train')"
   ]
  },
  {
   "cell_type": "code",
   "execution_count": 8,
   "metadata": {},
   "outputs": [],
   "source": [
    "n_embd = 32\n",
    "\n",
    "class BigramLanguageModel(nn.Module):\n",
    "\n",
    "    def __init__(self, idx):\n",
    "        super().__init__()\n",
    "        self.token_embedding_table = nn.Embedding(vocab_size, n_embd)\n",
    "        self.lm_head = nn.Linear(n_embd, vocab_size)\n",
    "\n",
    "    def forward(self, idx, target=None):\n",
    "        B, T = idx.shape\n",
    "\n",
    "        token_embd = self.token_embedding_table(idx) #(B, T, C)\n",
    "        logits = self.lm_head(token_embd) #(B, T, vocab_size)\n",
    "        \n",
    "        if target is None:\n",
    "            loss = None\n",
    "        else:\n",
    "            B, T, C = logits.shape\n",
    "            logits = logits.view(B*T, C)\n",
    "            target = target.view(B*T)\n",
    "            loss = F.cross_entropy(logits, target) \n",
    "        \n",
    "        return logits, loss\n",
    "    \n",
    "    def generate(self, idx, max_new_tokens):\n",
    "        for _ in range(max_new_tokens):\n",
    "            logits, loss = self.forward(idx)\n",
    "\n",
    "            logits = logits[:, -1, :]\n",
    "            probs = F.softmax(logits, dim=-1)\n",
    "            idx_next = torch.multinomial(probs, num_samples=1)\n",
    "\n",
    "            idx = torch.cat((idx, idx_next), dim=1)\n",
    "        return idx\n",
    "    \n",
    "    def backward(self, batch_size=32):\n",
    "        optimizer = torch.optim.AdamW(m.parameters(), lr=1e-3)\n",
    "\n",
    "        for step in range(2501):\n",
    "            xb, yb = generate_batch('train', batch_size)\n",
    "\n",
    "            logits, loss = self.forward(xb, yb)\n",
    "            optimizer.zero_grad(set_to_none=True)\n",
    "            loss.backward()\n",
    "            optimizer.step()\n",
    "            \n",
    "            if step % 500 == 0:\n",
    "                print(f\"Step {step}: {loss.item()}\")\n",
    "\n",
    "\n"
   ]
  },
  {
   "cell_type": "code",
   "execution_count": 10,
   "metadata": {},
   "outputs": [
    {
     "name": "stdout",
     "output_type": "stream",
     "text": [
      "Before Training:\n",
      "\n",
      "f'?'nC.UwSVWwdR.;3uH$Sg?HUFSB.VtmdaVFP nkk.qswUsSfneF3uwQuKU:S\n",
      "Nts3SL?:AqXFgkwqCJg aLnW?T?mHoWqJPZjNpnCnF$$MYxEAGn3PVOnxqgnkM$O--szfnoVjncmgUmo;xZOlYDXVBR!Z;iraD,\n",
      ".us$b?Z?A?gcCBbCBrwBOYH;QBOxZ!RxigUvgjgNtUSa,Tja.RpSctMdNstQY?anGmlpp&nISg-q:VD !NvlMpFJq\n",
      "pTEz'$inn'm-$.MvvrU;oybj&MqZ.LdxIU:sEjteqjOt:L?ebcF.khIfUSMVkHEMr\n",
      "pfWJ y MGibE&; EYyMS.vF-MNpKaWJfnKCtSeEh.f.'FUwYsB Q.,Zsms.dxDPOJ!J3kv&TWjs'?U!Sr\n"
     ]
    },
    {
     "name": "stderr",
     "output_type": "stream",
     "text": [
      "/Library/Frameworks/Python.framework/Versions/3.11/lib/python3.11/site-packages/tqdm/auto.py:21: TqdmWarning: IProgress not found. Please update jupyter and ipywidgets. See https://ipywidgets.readthedocs.io/en/stable/user_install.html\n",
      "  from .autonotebook import tqdm as notebook_tqdm\n"
     ]
    },
    {
     "name": "stdout",
     "output_type": "stream",
     "text": [
      "Step 0: 4.388572692871094\n",
      "Step 500: 2.7687180042266846\n",
      "Step 1000: 2.490400791168213\n",
      "Step 1500: 2.582876443862915\n",
      "Step 2000: 2.5142037868499756\n",
      "Step 2500: 2.5428881645202637\n",
      "\n",
      "After Training:\n",
      "\n",
      "\n",
      "ARitton! is d p,\n",
      "qders ome:\n",
      "A:\n",
      "F:\n",
      "\n",
      "SMENy wan d d CAnet, by, s&Cow haYomod, wane thind CENwfenchr.\n",
      "\n",
      "P chewot t biurGin wPY aellos, th de.\n",
      "O:ecu,\n",
      "Oxt gofeme en n ld se thind shevathanomomaded so fou s t hesst R.\n",
      "I IIIn.\n",
      "BENE\n",
      "CEve bengl p, husathe ied sftirynknsextlld, stou gho'd bu m\n",
      "QIs tI\n",
      "\n",
      "He.\n",
      "Fsethin,\n",
      "KINGENy bo\n",
      "LNGICot cating indig,\n",
      "Yo anTUS:\n",
      "YOMa me the thar? orere h twhex.\n",
      "\n",
      "TES: terd godseshi\n"
     ]
    }
   ],
   "source": [
    "m = BigramLanguageModel(xb)\n",
    "\n",
    "logits, loss = m.forward(xb, yb)\n",
    "\n",
    "idx = torch.zeros((1, 1), dtype=torch.long)\n",
    "\n",
    "print(\"Before Training:\")\n",
    "print(decode(m.generate(idx, max_new_tokens=400)[0].tolist()))\n",
    "\n",
    "m.backward()\n",
    "\n",
    "print(\"\\nAfter Training:\")\n",
    "print(decode(m.generate(idx, max_new_tokens=400)[0].tolist()))"
   ]
  }
 ],
 "metadata": {
  "kernelspec": {
   "display_name": "Python 3",
   "language": "python",
   "name": "python3"
  },
  "language_info": {
   "codemirror_mode": {
    "name": "ipython",
    "version": 3
   },
   "file_extension": ".py",
   "mimetype": "text/x-python",
   "name": "python",
   "nbconvert_exporter": "python",
   "pygments_lexer": "ipython3",
   "version": "3.11.1"
  },
  "orig_nbformat": 4,
  "vscode": {
   "interpreter": {
    "hash": "aee8b7b246df8f9039afb4144a1f6fd8d2ca17a180786b69acc140d282b71a49"
   }
  }
 },
 "nbformat": 4,
 "nbformat_minor": 2
}
